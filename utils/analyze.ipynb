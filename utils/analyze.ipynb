{
 "cells": [
  {
   "cell_type": "code",
   "execution_count": 1,
   "metadata": {},
   "outputs": [],
   "source": [
    "import pandas as pd\n",
    "import numpy as np\n",
    "import matplotlib.pyplot as plt"
   ]
  },
  {
   "cell_type": "code",
   "execution_count": 2,
   "metadata": {},
   "outputs": [],
   "source": [
    "data = np.load(\"../logs/Curriculum/Hopper-v5/evaluations.npz\", allow_pickle=True)\n",
    "\n",
    "reward_main = data['results_main'].mean(axis=1)\n",
    "reward_task = data['results_task'].mean(axis=1)\n",
    "task = data['task']"
   ]
  },
  {
   "cell_type": "code",
   "execution_count": 3,
   "metadata": {},
   "outputs": [
    {
     "data": {
      "text/plain": [
       "array([1320.62401899, 2063.56633398, 1625.97228357, 2042.70063212,\n",
       "       2136.43108487, 2126.18338697, 2105.38497987, 2104.65803687,\n",
       "       2094.55809905, 2098.19212535, 2139.81823859, 2146.31330103])"
      ]
     },
     "execution_count": 3,
     "metadata": {},
     "output_type": "execute_result"
    }
   ],
   "source": [
    "reward_task"
   ]
  },
  {
   "cell_type": "code",
   "execution_count": 4,
   "metadata": {},
   "outputs": [],
   "source": [
    "n_keys = data['results_dict'][0][0].keys()\n",
    "\n",
    "results = np.zeros((len(data['results_dict']), len(n_keys)))"
   ]
  },
  {
   "cell_type": "code",
   "execution_count": 5,
   "metadata": {},
   "outputs": [
    {
     "data": {
      "text/plain": [
       "dict_keys(['reward_x_velocity', 'reward_angle'])"
      ]
     },
     "execution_count": 5,
     "metadata": {},
     "output_type": "execute_result"
    }
   ],
   "source": [
    "n_keys"
   ]
  },
  {
   "cell_type": "code",
   "execution_count": 6,
   "metadata": {},
   "outputs": [],
   "source": [
    "for i in range(data['results_dict'].shape[0]):\n",
    "    ith_results = data['results_dict'][i]\n",
    "    for j in ith_results:\n",
    "        for idx, value in enumerate(j):\n",
    "            results[i][idx] += j[value]"
   ]
  },
  {
   "cell_type": "code",
   "execution_count": 7,
   "metadata": {},
   "outputs": [],
   "source": [
    "results = results / data['results_dict'].shape[1]"
   ]
  },
  {
   "cell_type": "code",
   "execution_count": 8,
   "metadata": {},
   "outputs": [
    {
     "data": {
      "text/plain": [
       "array([ 684.9372    , 1068.7791957 ,  842.28870146, 1063.93780334,\n",
       "       1141.89371952, 1129.53813017, 1108.92473672, 1107.2863062 ,\n",
       "       1098.65664883, 1102.40477894, 1142.46166863, 1149.57549323])"
      ]
     },
     "execution_count": 8,
     "metadata": {},
     "output_type": "execute_result"
    }
   ],
   "source": [
    "results[:,0]"
   ]
  },
  {
   "cell_type": "code",
   "execution_count": 9,
   "metadata": {},
   "outputs": [
    {
     "data": {
      "text/plain": [
       "array([635.68681898, 994.78713828, 783.68358211, 978.76282879,\n",
       "       994.53736535, 996.6452568 , 996.46024315, 997.37173068,\n",
       "       995.90145021, 995.78734642, 997.35656997, 996.7378078 ])"
      ]
     },
     "execution_count": 9,
     "metadata": {},
     "output_type": "execute_result"
    }
   ],
   "source": [
    "results[:,1]"
   ]
  }
 ],
 "metadata": {
  "kernelspec": {
   "display_name": "base",
   "language": "python",
   "name": "python3"
  },
  "language_info": {
   "codemirror_mode": {
    "name": "ipython",
    "version": 3
   },
   "file_extension": ".py",
   "mimetype": "text/x-python",
   "name": "python",
   "nbconvert_exporter": "python",
   "pygments_lexer": "ipython3",
   "version": "3.10.12"
  },
  "orig_nbformat": 4
 },
 "nbformat": 4,
 "nbformat_minor": 2
}
