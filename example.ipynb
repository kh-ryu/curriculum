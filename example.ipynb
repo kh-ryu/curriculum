{
 "cells": [
  {
   "cell_type": "code",
   "execution_count": 1,
   "metadata": {},
   "outputs": [
    {
     "name": "stderr",
     "output_type": "stream",
     "text": [
      "2023-10-31 18:36:15.802097: E tensorflow/compiler/xla/stream_executor/cuda/cuda_dnn.cc:9342] Unable to register cuDNN factory: Attempting to register factory for plugin cuDNN when one has already been registered\n",
      "2023-10-31 18:36:15.802128: E tensorflow/compiler/xla/stream_executor/cuda/cuda_fft.cc:609] Unable to register cuFFT factory: Attempting to register factory for plugin cuFFT when one has already been registered\n",
      "2023-10-31 18:36:15.802144: E tensorflow/compiler/xla/stream_executor/cuda/cuda_blas.cc:1518] Unable to register cuBLAS factory: Attempting to register factory for plugin cuBLAS when one has already been registered\n",
      "2023-10-31 18:36:15.806349: I tensorflow/core/platform/cpu_feature_guard.cc:182] This TensorFlow binary is optimized to use available CPU instructions in performance-critical operations.\n",
      "To enable the following instructions: AVX2 FMA, in other operations, rebuild TensorFlow with the appropriate compiler flags.\n"
     ]
    }
   ],
   "source": [
    "import gymnasium as gym\n",
    "import os\n",
    "\n",
    "from stable_baselines3 import PPO\n",
    "from stable_baselines3.common.evaluation import evaluate_policy\n",
    "from stable_baselines3.common.env_checker import check_env\n",
    "from stable_baselines3.common.utils import set_random_seed\n",
    "from stable_baselines3.common.env_util import make_vec_env\n",
    "from stable_baselines3.common.vec_env import DummyVecEnv, SubprocVecEnv\n",
    "\n",
    "from envs.curriculum_halfcheetah import HalfCheetahEnv\n",
    "\n",
    "from policy.curriculum_ppo import CurriculumPPO"
   ]
  },
  {
   "cell_type": "code",
   "execution_count": 2,
   "metadata": {},
   "outputs": [],
   "source": [
    "def make_env(env_id: str, rank: int, task = None, seed: int = 0):\n",
    "    \"\"\"\n",
    "    Utility function for multiprocessed env.\n",
    "\n",
    "    :param env_id: the environment ID\n",
    "    :param num_env: the number of environments you wish to have in subprocesses\n",
    "    :param seed: the inital seed for RNG\n",
    "    :param rank: index of the subprocess\n",
    "    \"\"\"\n",
    "    def _init():\n",
    "        env = gym.make(env_id)\n",
    "        check_env(env) # check the environment\n",
    "        env.reset(seed=seed + rank)\n",
    "        return env\n",
    "    set_random_seed(seed)\n",
    "    return _init"
   ]
  },
  {
   "cell_type": "code",
   "execution_count": 3,
   "metadata": {},
   "outputs": [],
   "source": [
    "env_id = \"Curriculum/HalfCheetah-v4\"\n",
    "num_cpu = 4"
   ]
  },
  {
   "cell_type": "code",
   "execution_count": 4,
   "metadata": {},
   "outputs": [
    {
     "name": "stderr",
     "output_type": "stream",
     "text": [
      "/home/kh-ryu/anaconda3/envs/curriculum/lib/python3.10/site-packages/gymnasium/envs/registration.py:694: UserWarning: \u001b[33mWARN: Overriding environment Curriculum/HalfCheetah-v4 already in registry.\u001b[0m\n",
      "  logger.warn(f\"Overriding environment {new_spec.id} already in registry.\")\n"
     ]
    }
   ],
   "source": [
    "from gymnasium.envs.registration import register\n",
    "\n",
    "register(\n",
    "     id=\"Curriculum/HalfCheetah-v4\",\n",
    "     entry_point=\"envs.curriculum_halfcheetah:HalfCheetahEnv\",\n",
    "     max_episode_steps=1000,\n",
    ")"
   ]
  },
  {
   "cell_type": "code",
   "execution_count": 5,
   "metadata": {},
   "outputs": [
    {
     "name": "stderr",
     "output_type": "stream",
     "text": [
      "2023-10-31 18:36:18.747538: E tensorflow/compiler/xla/stream_executor/cuda/cuda_dnn.cc:9342] Unable to register cuDNN factory: Attempting to register factory for plugin cuDNN when one has already been registered\n",
      "2023-10-31 18:36:18.747574: E tensorflow/compiler/xla/stream_executor/cuda/cuda_fft.cc:609] Unable to register cuFFT factory: Attempting to register factory for plugin cuFFT when one has already been registered\n",
      "2023-10-31 18:36:18.747589: E tensorflow/compiler/xla/stream_executor/cuda/cuda_blas.cc:1518] Unable to register cuBLAS factory: Attempting to register factory for plugin cuBLAS when one has already been registered\n",
      "2023-10-31 18:36:18.747714: E tensorflow/compiler/xla/stream_executor/cuda/cuda_dnn.cc:9342] Unable to register cuDNN factory: Attempting to register factory for plugin cuDNN when one has already been registered\n",
      "2023-10-31 18:36:18.747733: E tensorflow/compiler/xla/stream_executor/cuda/cuda_fft.cc:609] Unable to register cuFFT factory: Attempting to register factory for plugin cuFFT when one has already been registered\n",
      "2023-10-31 18:36:18.747750: E tensorflow/compiler/xla/stream_executor/cuda/cuda_blas.cc:1518] Unable to register cuBLAS factory: Attempting to register factory for plugin cuBLAS when one has already been registered\n",
      "2023-10-31 18:36:18.749404: E tensorflow/compiler/xla/stream_executor/cuda/cuda_dnn.cc:9342] Unable to register cuDNN factory: Attempting to register factory for plugin cuDNN when one has already been registered\n",
      "2023-10-31 18:36:18.749421: E tensorflow/compiler/xla/stream_executor/cuda/cuda_fft.cc:609] Unable to register cuFFT factory: Attempting to register factory for plugin cuFFT when one has already been registered\n",
      "2023-10-31 18:36:18.749432: E tensorflow/compiler/xla/stream_executor/cuda/cuda_blas.cc:1518] Unable to register cuBLAS factory: Attempting to register factory for plugin cuBLAS when one has already been registered\n",
      "2023-10-31 18:36:18.751893: I tensorflow/core/platform/cpu_feature_guard.cc:182] This TensorFlow binary is optimized to use available CPU instructions in performance-critical operations.\n",
      "To enable the following instructions: AVX2 FMA, in other operations, rebuild TensorFlow with the appropriate compiler flags.\n",
      "2023-10-31 18:36:18.751904: I tensorflow/core/platform/cpu_feature_guard.cc:182] This TensorFlow binary is optimized to use available CPU instructions in performance-critical operations.\n",
      "To enable the following instructions: AVX2 FMA, in other operations, rebuild TensorFlow with the appropriate compiler flags.\n",
      "2023-10-31 18:36:18.752959: I tensorflow/core/platform/cpu_feature_guard.cc:182] This TensorFlow binary is optimized to use available CPU instructions in performance-critical operations.\n",
      "To enable the following instructions: AVX2 FMA, in other operations, rebuild TensorFlow with the appropriate compiler flags.\n",
      "2023-10-31 18:36:18.753255: E tensorflow/compiler/xla/stream_executor/cuda/cuda_dnn.cc:9342] Unable to register cuDNN factory: Attempting to register factory for plugin cuDNN when one has already been registered\n",
      "2023-10-31 18:36:18.753271: E tensorflow/compiler/xla/stream_executor/cuda/cuda_fft.cc:609] Unable to register cuFFT factory: Attempting to register factory for plugin cuFFT when one has already been registered\n",
      "2023-10-31 18:36:18.753282: E tensorflow/compiler/xla/stream_executor/cuda/cuda_blas.cc:1518] Unable to register cuBLAS factory: Attempting to register factory for plugin cuBLAS when one has already been registered\n",
      "2023-10-31 18:36:18.756703: I tensorflow/core/platform/cpu_feature_guard.cc:182] This TensorFlow binary is optimized to use available CPU instructions in performance-critical operations.\n",
      "To enable the following instructions: AVX2 FMA, in other operations, rebuild TensorFlow with the appropriate compiler flags.\n",
      "Process ForkServerProcess-1:\n",
      "Traceback (most recent call last):\n",
      "  File \"/home/kh-ryu/anaconda3/envs/curriculum/lib/python3.10/multiprocessing/process.py\", line 314, in _bootstrap\n",
      "    self.run()\n",
      "  File \"/home/kh-ryu/anaconda3/envs/curriculum/lib/python3.10/multiprocessing/process.py\", line 108, in run\n",
      "    self._target(*self._args, **self._kwargs)\n",
      "  File \"/home/kh-ryu/anaconda3/envs/curriculum/lib/python3.10/site-packages/stable_baselines3/common/vec_env/subproc_vec_env.py\", line 29, in _worker\n",
      "    env = _patch_env(env_fn_wrapper.var())\n",
      "  File \"/tmp/ipykernel_22010/3980810259.py\", line 11, in _init\n",
      "  File \"/home/kh-ryu/anaconda3/envs/curriculum/lib/python3.10/site-packages/gymnasium/envs/registration.py\", line 741, in make\n",
      "    env_spec = _find_spec(id)\n",
      "  File \"/home/kh-ryu/anaconda3/envs/curriculum/lib/python3.10/site-packages/gymnasium/envs/registration.py\", line 527, in _find_spec\n",
      "    _check_version_exists(ns, name, version)\n",
      "  File \"/home/kh-ryu/anaconda3/envs/curriculum/lib/python3.10/site-packages/gymnasium/envs/registration.py\", line 393, in _check_version_exists\n",
      "    _check_name_exists(ns, name)\n",
      "  File \"/home/kh-ryu/anaconda3/envs/curriculum/lib/python3.10/site-packages/gymnasium/envs/registration.py\", line 356, in _check_name_exists\n",
      "    _check_namespace_exists(ns)\n",
      "  File \"/home/kh-ryu/anaconda3/envs/curriculum/lib/python3.10/site-packages/gymnasium/envs/registration.py\", line 350, in _check_namespace_exists\n",
      "    raise error.NamespaceNotFound(f\"Namespace {ns} not found. {suggestion_msg}\")\n",
      "gymnasium.error.NamespaceNotFound: Namespace Curriculum not found. Have you installed the proper package for Curriculum?\n",
      "Process ForkServerProcess-3:\n",
      "Traceback (most recent call last):\n",
      "  File \"/home/kh-ryu/anaconda3/envs/curriculum/lib/python3.10/multiprocessing/process.py\", line 314, in _bootstrap\n",
      "    self.run()\n",
      "  File \"/home/kh-ryu/anaconda3/envs/curriculum/lib/python3.10/multiprocessing/process.py\", line 108, in run\n",
      "    self._target(*self._args, **self._kwargs)\n",
      "  File \"/home/kh-ryu/anaconda3/envs/curriculum/lib/python3.10/site-packages/stable_baselines3/common/vec_env/subproc_vec_env.py\", line 29, in _worker\n",
      "    env = _patch_env(env_fn_wrapper.var())\n",
      "  File \"/tmp/ipykernel_22010/3980810259.py\", line 11, in _init\n",
      "  File \"/home/kh-ryu/anaconda3/envs/curriculum/lib/python3.10/site-packages/gymnasium/envs/registration.py\", line 741, in make\n",
      "    env_spec = _find_spec(id)\n",
      "  File \"/home/kh-ryu/anaconda3/envs/curriculum/lib/python3.10/site-packages/gymnasium/envs/registration.py\", line 527, in _find_spec\n",
      "    _check_version_exists(ns, name, version)\n",
      "  File \"/home/kh-ryu/anaconda3/envs/curriculum/lib/python3.10/site-packages/gymnasium/envs/registration.py\", line 393, in _check_version_exists\n",
      "    _check_name_exists(ns, name)\n",
      "  File \"/home/kh-ryu/anaconda3/envs/curriculum/lib/python3.10/site-packages/gymnasium/envs/registration.py\", line 356, in _check_name_exists\n",
      "    _check_namespace_exists(ns)\n",
      "  File \"/home/kh-ryu/anaconda3/envs/curriculum/lib/python3.10/site-packages/gymnasium/envs/registration.py\", line 350, in _check_namespace_exists\n",
      "    raise error.NamespaceNotFound(f\"Namespace {ns} not found. {suggestion_msg}\")\n",
      "gymnasium.error.NamespaceNotFound: Namespace Curriculum not found. Have you installed the proper package for Curriculum?\n",
      "Process ForkServerProcess-4:\n",
      "Traceback (most recent call last):\n",
      "  File \"/home/kh-ryu/anaconda3/envs/curriculum/lib/python3.10/multiprocessing/process.py\", line 314, in _bootstrap\n",
      "    self.run()\n",
      "  File \"/home/kh-ryu/anaconda3/envs/curriculum/lib/python3.10/multiprocessing/process.py\", line 108, in run\n",
      "    self._target(*self._args, **self._kwargs)\n",
      "  File \"/home/kh-ryu/anaconda3/envs/curriculum/lib/python3.10/site-packages/stable_baselines3/common/vec_env/subproc_vec_env.py\", line 29, in _worker\n",
      "    env = _patch_env(env_fn_wrapper.var())\n",
      "  File \"/tmp/ipykernel_22010/3980810259.py\", line 11, in _init\n",
      "  File \"/home/kh-ryu/anaconda3/envs/curriculum/lib/python3.10/site-packages/gymnasium/envs/registration.py\", line 741, in make\n",
      "    env_spec = _find_spec(id)\n",
      "  File \"/home/kh-ryu/anaconda3/envs/curriculum/lib/python3.10/site-packages/gymnasium/envs/registration.py\", line 527, in _find_spec\n",
      "    _check_version_exists(ns, name, version)\n",
      "  File \"/home/kh-ryu/anaconda3/envs/curriculum/lib/python3.10/site-packages/gymnasium/envs/registration.py\", line 393, in _check_version_exists\n",
      "    _check_name_exists(ns, name)\n",
      "  File \"/home/kh-ryu/anaconda3/envs/curriculum/lib/python3.10/site-packages/gymnasium/envs/registration.py\", line 356, in _check_name_exists\n",
      "    _check_namespace_exists(ns)\n",
      "  File \"/home/kh-ryu/anaconda3/envs/curriculum/lib/python3.10/site-packages/gymnasium/envs/registration.py\", line 350, in _check_namespace_exists\n",
      "    raise error.NamespaceNotFound(f\"Namespace {ns} not found. {suggestion_msg}\")\n",
      "gymnasium.error.NamespaceNotFound: Namespace Curriculum not found. Have you installed the proper package for Curriculum?\n",
      "Process ForkServerProcess-2:\n",
      "Traceback (most recent call last):\n",
      "  File \"/home/kh-ryu/anaconda3/envs/curriculum/lib/python3.10/multiprocessing/process.py\", line 314, in _bootstrap\n",
      "    self.run()\n",
      "  File \"/home/kh-ryu/anaconda3/envs/curriculum/lib/python3.10/multiprocessing/process.py\", line 108, in run\n",
      "    self._target(*self._args, **self._kwargs)\n",
      "  File \"/home/kh-ryu/anaconda3/envs/curriculum/lib/python3.10/site-packages/stable_baselines3/common/vec_env/subproc_vec_env.py\", line 29, in _worker\n",
      "    env = _patch_env(env_fn_wrapper.var())\n",
      "  File \"/tmp/ipykernel_22010/3980810259.py\", line 11, in _init\n",
      "  File \"/home/kh-ryu/anaconda3/envs/curriculum/lib/python3.10/site-packages/gymnasium/envs/registration.py\", line 741, in make\n",
      "    env_spec = _find_spec(id)\n",
      "  File \"/home/kh-ryu/anaconda3/envs/curriculum/lib/python3.10/site-packages/gymnasium/envs/registration.py\", line 527, in _find_spec\n",
      "    _check_version_exists(ns, name, version)\n",
      "  File \"/home/kh-ryu/anaconda3/envs/curriculum/lib/python3.10/site-packages/gymnasium/envs/registration.py\", line 393, in _check_version_exists\n",
      "    _check_name_exists(ns, name)\n",
      "  File \"/home/kh-ryu/anaconda3/envs/curriculum/lib/python3.10/site-packages/gymnasium/envs/registration.py\", line 356, in _check_name_exists\n",
      "    _check_namespace_exists(ns)\n",
      "  File \"/home/kh-ryu/anaconda3/envs/curriculum/lib/python3.10/site-packages/gymnasium/envs/registration.py\", line 350, in _check_namespace_exists\n",
      "    raise error.NamespaceNotFound(f\"Namespace {ns} not found. {suggestion_msg}\")\n",
      "gymnasium.error.NamespaceNotFound: Namespace Curriculum not found. Have you installed the proper package for Curriculum?\n"
     ]
    },
    {
     "ename": "ConnectionResetError",
     "evalue": "[Errno 104] Connection reset by peer",
     "output_type": "error",
     "traceback": [
      "\u001b[0;31m---------------------------------------------------------------------------\u001b[0m",
      "\u001b[0;31mConnectionResetError\u001b[0m                      Traceback (most recent call last)",
      "\u001b[1;32m/home/kh-ryu/curriculum/example.ipynb Cell 5\u001b[0m line \u001b[0;36m1\n\u001b[0;32m----> <a href='vscode-notebook-cell:/home/kh-ryu/curriculum/example.ipynb#W3sZmlsZQ%3D%3D?line=0'>1</a>\u001b[0m training_env \u001b[39m=\u001b[39m SubprocVecEnv([make_env(env_id, i, task\u001b[39m=\u001b[39;49m\u001b[39mNone\u001b[39;49;00m) \u001b[39mfor\u001b[39;49;00m i \u001b[39min\u001b[39;49;00m \u001b[39mrange\u001b[39;49m(num_cpu)])\n",
      "File \u001b[0;32m~/anaconda3/envs/curriculum/lib/python3.10/site-packages/stable_baselines3/common/vec_env/subproc_vec_env.py:120\u001b[0m, in \u001b[0;36mSubprocVecEnv.__init__\u001b[0;34m(self, env_fns, start_method)\u001b[0m\n\u001b[1;32m    117\u001b[0m     work_remote\u001b[39m.\u001b[39mclose()\n\u001b[1;32m    119\u001b[0m \u001b[39mself\u001b[39m\u001b[39m.\u001b[39mremotes[\u001b[39m0\u001b[39m]\u001b[39m.\u001b[39msend((\u001b[39m\"\u001b[39m\u001b[39mget_spaces\u001b[39m\u001b[39m\"\u001b[39m, \u001b[39mNone\u001b[39;00m))\n\u001b[0;32m--> 120\u001b[0m observation_space, action_space \u001b[39m=\u001b[39m \u001b[39mself\u001b[39;49m\u001b[39m.\u001b[39;49mremotes[\u001b[39m0\u001b[39;49m]\u001b[39m.\u001b[39;49mrecv()\n\u001b[1;32m    122\u001b[0m \u001b[39msuper\u001b[39m()\u001b[39m.\u001b[39m\u001b[39m__init__\u001b[39m(\u001b[39mlen\u001b[39m(env_fns), observation_space, action_space)\n",
      "File \u001b[0;32m~/anaconda3/envs/curriculum/lib/python3.10/multiprocessing/connection.py:250\u001b[0m, in \u001b[0;36m_ConnectionBase.recv\u001b[0;34m(self)\u001b[0m\n\u001b[1;32m    248\u001b[0m \u001b[39mself\u001b[39m\u001b[39m.\u001b[39m_check_closed()\n\u001b[1;32m    249\u001b[0m \u001b[39mself\u001b[39m\u001b[39m.\u001b[39m_check_readable()\n\u001b[0;32m--> 250\u001b[0m buf \u001b[39m=\u001b[39m \u001b[39mself\u001b[39;49m\u001b[39m.\u001b[39;49m_recv_bytes()\n\u001b[1;32m    251\u001b[0m \u001b[39mreturn\u001b[39;00m _ForkingPickler\u001b[39m.\u001b[39mloads(buf\u001b[39m.\u001b[39mgetbuffer())\n",
      "File \u001b[0;32m~/anaconda3/envs/curriculum/lib/python3.10/multiprocessing/connection.py:414\u001b[0m, in \u001b[0;36mConnection._recv_bytes\u001b[0;34m(self, maxsize)\u001b[0m\n\u001b[1;32m    413\u001b[0m \u001b[39mdef\u001b[39;00m \u001b[39m_recv_bytes\u001b[39m(\u001b[39mself\u001b[39m, maxsize\u001b[39m=\u001b[39m\u001b[39mNone\u001b[39;00m):\n\u001b[0;32m--> 414\u001b[0m     buf \u001b[39m=\u001b[39m \u001b[39mself\u001b[39;49m\u001b[39m.\u001b[39;49m_recv(\u001b[39m4\u001b[39;49m)\n\u001b[1;32m    415\u001b[0m     size, \u001b[39m=\u001b[39m struct\u001b[39m.\u001b[39munpack(\u001b[39m\"\u001b[39m\u001b[39m!i\u001b[39m\u001b[39m\"\u001b[39m, buf\u001b[39m.\u001b[39mgetvalue())\n\u001b[1;32m    416\u001b[0m     \u001b[39mif\u001b[39;00m size \u001b[39m==\u001b[39m \u001b[39m-\u001b[39m\u001b[39m1\u001b[39m:\n",
      "File \u001b[0;32m~/anaconda3/envs/curriculum/lib/python3.10/multiprocessing/connection.py:379\u001b[0m, in \u001b[0;36mConnection._recv\u001b[0;34m(self, size, read)\u001b[0m\n\u001b[1;32m    377\u001b[0m remaining \u001b[39m=\u001b[39m size\n\u001b[1;32m    378\u001b[0m \u001b[39mwhile\u001b[39;00m remaining \u001b[39m>\u001b[39m \u001b[39m0\u001b[39m:\n\u001b[0;32m--> 379\u001b[0m     chunk \u001b[39m=\u001b[39m read(handle, remaining)\n\u001b[1;32m    380\u001b[0m     n \u001b[39m=\u001b[39m \u001b[39mlen\u001b[39m(chunk)\n\u001b[1;32m    381\u001b[0m     \u001b[39mif\u001b[39;00m n \u001b[39m==\u001b[39m \u001b[39m0\u001b[39m:\n",
      "\u001b[0;31mConnectionResetError\u001b[0m: [Errno 104] Connection reset by peer"
     ]
    }
   ],
   "source": [
    "training_env = SubprocVecEnv([make_env(env_id, i, task=None) for i in range(num_cpu)])"
   ]
  },
  {
   "cell_type": "code",
   "execution_count": null,
   "metadata": {},
   "outputs": [],
   "source": [
    "obs = training_env.reset()"
   ]
  },
  {
   "cell_type": "code",
   "execution_count": null,
   "metadata": {},
   "outputs": [],
   "source": [
    "model = CurriculumPPO(\"MlpPolicy\", training_env, task_list=None, task_threshold=None, verbose=1, tensorboard_log=\"./tensorboard/\")"
   ]
  },
  {
   "cell_type": "code",
   "execution_count": null,
   "metadata": {},
   "outputs": [],
   "source": [
    "for _ in range(2000):\n",
    "    action, _states = model.predict(obs)\n",
    "    obs, rewards, dones, info = training_env.step(action)\n",
    "    print(dones)\n",
    "    print(_)\n",
    "    if dones.any():\n",
    "        break"
   ]
  }
 ],
 "metadata": {
  "kernelspec": {
   "display_name": "curriculum",
   "language": "python",
   "name": "python3"
  },
  "language_info": {
   "codemirror_mode": {
    "name": "ipython",
    "version": 3
   },
   "file_extension": ".py",
   "mimetype": "text/x-python",
   "name": "python",
   "nbconvert_exporter": "python",
   "pygments_lexer": "ipython3",
   "version": "3.10.13"
  }
 },
 "nbformat": 4,
 "nbformat_minor": 2
}
