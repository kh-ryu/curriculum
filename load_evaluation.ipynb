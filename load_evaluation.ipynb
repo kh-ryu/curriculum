{
 "cells": [
  {
   "cell_type": "code",
   "execution_count": 1,
   "metadata": {},
   "outputs": [],
   "source": [
    "import numpy as np"
   ]
  },
  {
   "cell_type": "code",
   "execution_count": 2,
   "metadata": {},
   "outputs": [],
   "source": [
    "evaluation = np.load('./logs/evaluations.npz')"
   ]
  },
  {
   "cell_type": "code",
   "execution_count": 3,
   "metadata": {},
   "outputs": [
    {
     "data": {
      "text/plain": [
       "NpzFile './logs/evaluations.npz' with keys: timesteps, results_main, results_task, task, ep_lengths"
      ]
     },
     "execution_count": 3,
     "metadata": {},
     "output_type": "execute_result"
    }
   ],
   "source": [
    "evaluation"
   ]
  },
  {
   "cell_type": "code",
   "execution_count": 4,
   "metadata": {},
   "outputs": [
    {
     "data": {
      "text/plain": [
       "array([[ -0.56738615,  -2.64509361,  -2.12507001,  -1.65602142,\n",
       "         -2.59992576],\n",
       "       [ 20.61619652,  21.3374837 ,  20.15793998,  20.76255714,\n",
       "         18.7586935 ],\n",
       "       [ 17.12983983,  20.26510158,  18.34595707,  17.48215769,\n",
       "         20.09435155],\n",
       "       [ 27.74951282,  26.37680892,  29.04868538,  25.70187693,\n",
       "         26.00468671],\n",
       "       [ 32.57154384,  35.09788688,  36.58474253,  37.06123848,\n",
       "         34.36121022],\n",
       "       [ 20.4240731 ,  28.68511759,  27.31008575,  32.38789906,\n",
       "         25.38576001],\n",
       "       [ 42.31363086,  48.71221112,  42.40106437,  35.94035056,\n",
       "         45.16096109],\n",
       "       [139.98376987, 111.97346742, 125.0444115 , 116.41294602,\n",
       "        119.33173194],\n",
       "       [192.78817386, 183.12656588, 195.20696233, 194.44135521,\n",
       "        196.5024995 ],\n",
       "       [216.43669352, 206.60182468, 210.13774595, 192.19686479,\n",
       "        190.5766096 ]])"
      ]
     },
     "execution_count": 4,
     "metadata": {},
     "output_type": "execute_result"
    }
   ],
   "source": [
    "evaluation['results_main']"
   ]
  },
  {
   "cell_type": "code",
   "execution_count": 5,
   "metadata": {},
   "outputs": [
    {
     "data": {
      "text/plain": [
       "array([[ -0.56738615,  -2.64509361,  -2.12507001,  -1.65602142,\n",
       "         -2.59992576],\n",
       "       [ 20.61619652,  21.3374837 ,  20.15793998,  20.76255714,\n",
       "         18.7586935 ],\n",
       "       [ 17.12983983,  20.26510158,  18.34595707,  17.48215769,\n",
       "         20.09435155],\n",
       "       [ 27.74951282,  26.37680892,  29.04868538,  25.70187693,\n",
       "         26.00468671],\n",
       "       [ 32.57154384,  35.09788688,  36.58474253,  37.06123848,\n",
       "         34.36121022],\n",
       "       [ 20.4240731 ,  28.68511759,  27.31008575,  32.38789906,\n",
       "         25.38576001],\n",
       "       [ 42.31363086,  48.71221112,  42.40106437,  35.94035056,\n",
       "         45.16096109],\n",
       "       [139.98376987, 111.97346742, 125.0444115 , 116.41294602,\n",
       "        119.33173194],\n",
       "       [192.78817386, 183.12656588, 195.20696233, 194.44135521,\n",
       "        196.5024995 ],\n",
       "       [216.43669352, 206.60182468, 210.13774595, 192.19686479,\n",
       "        190.5766096 ]])"
      ]
     },
     "execution_count": 5,
     "metadata": {},
     "output_type": "execute_result"
    }
   ],
   "source": [
    "evaluation['results_task']"
   ]
  },
  {
   "cell_type": "code",
   "execution_count": 8,
   "metadata": {},
   "outputs": [
    {
     "ename": "ValueError",
     "evalue": "Object arrays cannot be loaded when allow_pickle=False",
     "output_type": "error",
     "traceback": [
      "\u001b[0;31m---------------------------------------------------------------------------\u001b[0m",
      "\u001b[0;31mValueError\u001b[0m                                Traceback (most recent call last)",
      "\u001b[1;32m/home/kh-ryu/curriculum/load_evaluation.ipynb Cell 6\u001b[0m line \u001b[0;36m1\n\u001b[0;32m----> <a href='vscode-notebook-cell:/home/kh-ryu/curriculum/load_evaluation.ipynb#W5sZmlsZQ%3D%3D?line=0'>1</a>\u001b[0m evaluation[\u001b[39m'\u001b[39;49m\u001b[39mtask\u001b[39;49m\u001b[39m'\u001b[39;49m]\n",
      "File \u001b[0;32m~/anaconda3/envs/curriculum/lib/python3.10/site-packages/numpy/lib/npyio.py:256\u001b[0m, in \u001b[0;36mNpzFile.__getitem__\u001b[0;34m(self, key)\u001b[0m\n\u001b[1;32m    254\u001b[0m \u001b[39mif\u001b[39;00m magic \u001b[39m==\u001b[39m \u001b[39mformat\u001b[39m\u001b[39m.\u001b[39mMAGIC_PREFIX:\n\u001b[1;32m    255\u001b[0m     \u001b[39mbytes\u001b[39m \u001b[39m=\u001b[39m \u001b[39mself\u001b[39m\u001b[39m.\u001b[39mzip\u001b[39m.\u001b[39mopen(key)\n\u001b[0;32m--> 256\u001b[0m     \u001b[39mreturn\u001b[39;00m \u001b[39mformat\u001b[39;49m\u001b[39m.\u001b[39;49mread_array(\u001b[39mbytes\u001b[39;49m,\n\u001b[1;32m    257\u001b[0m                              allow_pickle\u001b[39m=\u001b[39;49m\u001b[39mself\u001b[39;49m\u001b[39m.\u001b[39;49mallow_pickle,\n\u001b[1;32m    258\u001b[0m                              pickle_kwargs\u001b[39m=\u001b[39;49m\u001b[39mself\u001b[39;49m\u001b[39m.\u001b[39;49mpickle_kwargs,\n\u001b[1;32m    259\u001b[0m                              max_header_size\u001b[39m=\u001b[39;49m\u001b[39mself\u001b[39;49m\u001b[39m.\u001b[39;49mmax_header_size)\n\u001b[1;32m    260\u001b[0m \u001b[39melse\u001b[39;00m:\n\u001b[1;32m    261\u001b[0m     \u001b[39mreturn\u001b[39;00m \u001b[39mself\u001b[39m\u001b[39m.\u001b[39mzip\u001b[39m.\u001b[39mread(key)\n",
      "File \u001b[0;32m~/anaconda3/envs/curriculum/lib/python3.10/site-packages/numpy/lib/format.py:795\u001b[0m, in \u001b[0;36mread_array\u001b[0;34m(fp, allow_pickle, pickle_kwargs, max_header_size)\u001b[0m\n\u001b[1;32m    792\u001b[0m \u001b[39mif\u001b[39;00m dtype\u001b[39m.\u001b[39mhasobject:\n\u001b[1;32m    793\u001b[0m     \u001b[39m# The array contained Python objects. We need to unpickle the data.\u001b[39;00m\n\u001b[1;32m    794\u001b[0m     \u001b[39mif\u001b[39;00m \u001b[39mnot\u001b[39;00m allow_pickle:\n\u001b[0;32m--> 795\u001b[0m         \u001b[39mraise\u001b[39;00m \u001b[39mValueError\u001b[39;00m(\u001b[39m\"\u001b[39m\u001b[39mObject arrays cannot be loaded when \u001b[39m\u001b[39m\"\u001b[39m\n\u001b[1;32m    796\u001b[0m                          \u001b[39m\"\u001b[39m\u001b[39mallow_pickle=False\u001b[39m\u001b[39m\"\u001b[39m)\n\u001b[1;32m    797\u001b[0m     \u001b[39mif\u001b[39;00m pickle_kwargs \u001b[39mis\u001b[39;00m \u001b[39mNone\u001b[39;00m:\n\u001b[1;32m    798\u001b[0m         pickle_kwargs \u001b[39m=\u001b[39m {}\n",
      "\u001b[0;31mValueError\u001b[0m: Object arrays cannot be loaded when allow_pickle=False"
     ]
    }
   ],
   "source": [
    "evaluation['task']"
   ]
  }
 ],
 "metadata": {
  "kernelspec": {
   "display_name": "curriculum",
   "language": "python",
   "name": "python3"
  },
  "language_info": {
   "codemirror_mode": {
    "name": "ipython",
    "version": 3
   },
   "file_extension": ".py",
   "mimetype": "text/x-python",
   "name": "python",
   "nbconvert_exporter": "python",
   "pygments_lexer": "ipython3",
   "version": "3.10.13"
  }
 },
 "nbformat": 4,
 "nbformat_minor": 2
}
